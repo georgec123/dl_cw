{
 "cells": [
  {
   "cell_type": "code",
   "execution_count": 13,
   "metadata": {},
   "outputs": [],
   "source": [
    "from numpy.random import seed\n",
    "from tensorflow.random import set_seed\n",
    "import random\n",
    "\n",
    "seed(1)\n",
    "set_seed(1)\n",
    "random.seed(1)\n",
    "\n",
    "\n",
    "import pandas as pd\n",
    "from tensorflow import keras\n",
    "from tensorflow.keras import Sequential\n",
    "from tensorflow.keras.layers import Dense, Dropout, Input, InputLayer\n",
    "from tensorflow.keras.optimizers import Adam \n",
    "from keras.callbacks import History \n",
    "\n",
    "from sklearn.model_selection import train_test_split, KFold, ParameterGrid\n",
    "from sklearn.metrics import accuracy_score\n",
    "\n",
    "\n",
    "from utils import  get_features, k_fold\n"
   ]
  },
  {
   "cell_type": "code",
   "execution_count": 14,
   "metadata": {},
   "outputs": [],
   "source": [
    "df = pd.read_csv('../data/Data_A.csv', header=None)\n",
    "test_data = pd.read_csv('../data/Data_B_nolabels.csv', header=None)\n",
    "\n",
    "columns=['midprice_up','ss_lob_1_p','ss_lob_1_v','bs_lob_1_p','bs_lob_1_v','ss_lob_2_p','ss_lob_2_v',\n",
    "'bs_lob_2_p','bs_lob_2_v','ss_lob_3_p','ss_lob_3_v','bs_lob_3_p','bs_lob_3_v','ss_lob_4_p','ss_lob_4_v',\n",
    "'bs_lob_4_p','bs_lob_4_v','c1','c2','c3','c4','c5']\n",
    "\n",
    "df.columns = columns\n",
    "test_data.columns = columns[1:]\n",
    "\n",
    "price_cols = ['ss_lob_1_p','bs_lob_1_p','ss_lob_2_p','bs_lob_2_p','ss_lob_3_p','bs_lob_3_p','ss_lob_4_p','bs_lob_4_p']\n",
    "vol_cols = ['ss_lob_1_v','bs_lob_1_v','ss_lob_2_v','bs_lob_2_v','ss_lob_3_v','bs_lob_3_v','ss_lob_4_v','bs_lob_4_v']\n",
    "prev_mid_m_cols = ['c1', 'c2', 'c3', 'c4', 'c5']\n",
    "\n",
    "# engineer features\n",
    "df, engineered_cols = get_features(df)\n",
    "\n",
    "\n",
    "# do train test split\n",
    "X_train = df.drop(columns='midprice_up')\n",
    "y_train = df['midprice_up']\n",
    "\n",
    "X_test, engineered_cols = get_features(test_data)\n",
    "\n",
    "means = X_train[price_cols+vol_cols+engineered_cols].mean(axis=0)\n",
    "stds = X_train[price_cols+vol_cols+engineered_cols].std(axis=0)\n",
    "\n",
    "def transform(df, means, stds):\n",
    "    return (df-means)/stds\n",
    "\n",
    "X_train[price_cols+vol_cols+engineered_cols] = transform(X_train[price_cols+vol_cols+engineered_cols], means, stds)\n",
    "X_test[price_cols+vol_cols+engineered_cols] = transform(X_test[price_cols+vol_cols+engineered_cols], means, stds)\n",
    "\n"
   ]
  },
  {
   "cell_type": "code",
   "execution_count": 15,
   "metadata": {},
   "outputs": [
    {
     "name": "stdout",
     "output_type": "stream",
     "text": [
      "Time taken: 515.8s\n"
     ]
    },
    {
     "ename": "NameError",
     "evalue": "name 'plt' is not defined",
     "output_type": "error",
     "traceback": [
      "\u001b[1;31m---------------------------------------------------------------------------\u001b[0m",
      "\u001b[1;31mNameError\u001b[0m                                 Traceback (most recent call last)",
      "Cell \u001b[1;32mIn[15], line 18\u001b[0m\n\u001b[0;32m      8\u001b[0m model \u001b[39m=\u001b[39m keras\u001b[39m.\u001b[39mSequential([\n\u001b[0;32m      9\u001b[0m     InputLayer(input_shape\u001b[39m=\u001b[39m(\u001b[39mlen\u001b[39m(X_train\u001b[39m.\u001b[39mcolumns))),\n\u001b[0;32m     10\u001b[0m     Dense(units\u001b[39m=\u001b[39m\u001b[39m100\u001b[39m, activation\u001b[39m=\u001b[39m\u001b[39m'\u001b[39m\u001b[39melu\u001b[39m\u001b[39m'\u001b[39m),\n\u001b[1;32m   (...)\u001b[0m\n\u001b[0;32m     13\u001b[0m     Dense(units\u001b[39m=\u001b[39m\u001b[39m1\u001b[39m, activation\u001b[39m=\u001b[39m\u001b[39m'\u001b[39m\u001b[39msigmoid\u001b[39m\u001b[39m'\u001b[39m)\n\u001b[0;32m     14\u001b[0m ])\n\u001b[0;32m     16\u001b[0m model\u001b[39m.\u001b[39mcompile(optimizer\u001b[39m=\u001b[39moptimizer, loss\u001b[39m=\u001b[39m\u001b[39m\"\u001b[39m\u001b[39mbinary_crossentropy\u001b[39m\u001b[39m\"\u001b[39m, metrics\u001b[39m=\u001b[39m[\u001b[39m\"\u001b[39m\u001b[39maccuracy\u001b[39m\u001b[39m\"\u001b[39m])\n\u001b[1;32m---> 18\u001b[0m k_fold(model\u001b[39m=\u001b[39mmodel, X\u001b[39m=\u001b[39mX_train, Y\u001b[39m=\u001b[39my_train, batch_size\u001b[39m=\u001b[39mbatch_size, epochs\u001b[39m=\u001b[39mepochs, history\u001b[39m=\u001b[39mHistory()); plt\u001b[39m.\u001b[39mshow()\n\u001b[0;32m     20\u001b[0m history \u001b[39m=\u001b[39m History()\n\u001b[0;32m     21\u001b[0m model\u001b[39m.\u001b[39mfit(X_train, y_train, batch_size\u001b[39m=\u001b[39mbatch_size, epochs\u001b[39m=\u001b[39mepochs, callbacks\u001b[39m=\u001b[39m[history])\n",
      "\u001b[1;31mNameError\u001b[0m: name 'plt' is not defined"
     ]
    },
    {
     "data": {
      "image/png": "[encoded data removed]",
      "text/plain": [
       "<Figure size 640x480 with 1 Axes>"
      ]
     },
     "metadata": {},
     "output_type": "display_data"
    }
   ],
   "source": [
    "eta = 0.001\n",
    "batch_size=50\n",
    "optimizer=Adam(eta)\n",
    "epochs=20\n",
    "\n",
    "\n",
    "history = History()\n",
    "model = keras.Sequential([\n",
    "    InputLayer(input_shape=(len(X_train.columns))),\n",
    "    Dense(units=100, activation='elu'),\n",
    "    Dense(units=50, activation='elu'),\n",
    "    Dense(units=20, activation='elu'),\n",
    "    Dense(units=1, activation='sigmoid')\n",
    "])\n",
    "\n",
    "model.compile(optimizer=optimizer, loss=\"binary_crossentropy\", metrics=[\"accuracy\"])\n",
    "\n",
    "k_fold(model=model, X=X_train, Y=y_train, batch_size=batch_size, epochs=epochs, history=History()); plt.show()\n",
    "\n",
    "history = History()\n",
    "model.fit(X_train, y_train, batch_size=batch_size, epochs=epochs, callbacks=[history])\n",
    "\n",
    "\n",
    "y_train_pred = model.predict(X_train, verbose=0)\n",
    "y_train_pred = (y_train_pred>0.5).astype(int)\n",
    "train_accuracy = accuracy_score(y_train_pred.flatten(), y_train.to_numpy().flatten())\n",
    "\n",
    "print(f\"{train_accuracy=}\")\n",
    "\n",
    "y_test_pred = model.predict(X_test, verbose=0)\n",
    "y_test_pred = (y_test_pred>0.5).astype(int)\n",
    "\n"
   ]
  },
  {
   "cell_type": "code",
   "execution_count": null,
   "metadata": {},
   "outputs": [],
   "source": [
    "for cid_name in ['02274149_Coxon', '01075416_McGreevy', '02306375_MorenodeVega']:\n",
    "    pd.Series(y_test_pred.flatten()).to_csv(f'./predictions/{cid_name}.txt', index=False)\n"
   ]
  }
 ],
 "metadata": {
  "kernelspec": {
   "display_name": "venv",
   "language": "python",
   "name": "python3"
  },
  "language_info": {
   "codemirror_mode": {
    "name": "ipython",
    "version": 3
   },
   "file_extension": ".py",
   "mimetype": "text/x-python",
   "name": "python",
   "nbconvert_exporter": "python",
   "pygments_lexer": "ipython3",
   "version": "3.9.11"
  },
  "orig_nbformat": 4,
  "vscode": {
   "interpreter": {
    "hash": "d5a4d575a3f9390417db93755ce5d901ca6db577e6a37fb25263f9010c483d1b"
   }
  }
 },
 "nbformat": 4,
 "nbformat_minor": 2
}
