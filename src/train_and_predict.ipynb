{
 "cells": [
  {
   "cell_type": "code",
   "execution_count": 17,
   "metadata": {},
   "outputs": [],
   "source": [
    "from numpy.random import seed\n",
    "from tensorflow.random import set_seed\n",
    "import random\n",
    "\n",
    "seed(1)\n",
    "set_seed(1)\n",
    "random.seed(1)\n",
    "\n",
    "\n",
    "import pandas as pd\n",
    "from tensorflow import keras\n",
    "from tensorflow.keras import Sequential\n",
    "from tensorflow.keras.layers import Dense, Dropout, Input, InputLayer\n",
    "from tensorflow.keras.optimizers import Adam \n",
    "from keras.callbacks import History \n",
    "\n",
    "from sklearn.model_selection import train_test_split, KFold, ParameterGrid\n",
    "from sklearn.metrics import accuracy_score\n",
    "import matplotlib.pyplot as plt\n",
    "\n",
    "from utils import  get_features, k_fold\n"
   ]
  },
  {
   "attachments": {},
   "cell_type": "markdown",
   "metadata": {},
   "source": [
    "### Read data & preprocessing\n",
    "- Read data in\n",
    "- Engineer features for train & unseen data\n",
    "- Get scaling parameters from train data only\n",
    "- Scale train and test data using same scale"
   ]
  },
  {
   "cell_type": "code",
   "execution_count": 14,
   "metadata": {},
   "outputs": [],
   "source": [
    "df = pd.read_csv('../data/Data_A.csv', header=None)\n",
    "test_data = pd.read_csv('../data/Data_B_nolabels.csv', header=None)\n",
    "\n",
    "columns=['midprice_up','ss_lob_1_p','ss_lob_1_v','bs_lob_1_p','bs_lob_1_v','ss_lob_2_p','ss_lob_2_v',\n",
    "'bs_lob_2_p','bs_lob_2_v','ss_lob_3_p','ss_lob_3_v','bs_lob_3_p','bs_lob_3_v','ss_lob_4_p','ss_lob_4_v',\n",
    "'bs_lob_4_p','bs_lob_4_v','c1','c2','c3','c4','c5']\n",
    "\n",
    "df.columns = columns\n",
    "test_data.columns = columns[1:]\n",
    "\n",
    "price_cols = ['ss_lob_1_p','bs_lob_1_p','ss_lob_2_p','bs_lob_2_p','ss_lob_3_p','bs_lob_3_p','ss_lob_4_p','bs_lob_4_p']\n",
    "vol_cols = ['ss_lob_1_v','bs_lob_1_v','ss_lob_2_v','bs_lob_2_v','ss_lob_3_v','bs_lob_3_v','ss_lob_4_v','bs_lob_4_v']\n",
    "prev_mid_m_cols = ['c1', 'c2', 'c3', 'c4', 'c5']\n",
    "\n",
    "# engineer features\n",
    "df, engineered_cols = get_features(df)\n",
    "X_test, engineered_cols = get_features(test_data)\n",
    "\n",
    "# do train test split\n",
    "X_train = df.drop(columns='midprice_up')\n",
    "y_train = df['midprice_up']\n",
    "\n",
    "\n",
    "\n",
    "means = X_train[price_cols+vol_cols+engineered_cols].mean(axis=0)\n",
    "stds = X_train[price_cols+vol_cols+engineered_cols].std(axis=0)\n",
    "\n",
    "def transform(df, means, stds):\n",
    "    return (df-means)/stds\n",
    "\n",
    "X_train[price_cols+vol_cols+engineered_cols] = transform(X_train[price_cols+vol_cols+engineered_cols], means, stds)\n",
    "X_test[price_cols+vol_cols+engineered_cols] = transform(X_test[price_cols+vol_cols+engineered_cols], means, stds)\n",
    "\n"
   ]
  },
  {
   "attachments": {},
   "cell_type": "markdown",
   "metadata": {},
   "source": [
    "We use the optimal hyperparamers found in `src/parameter_tune.ipynb`\n",
    "\n",
    "- Epochs = 20\n",
    "- batch_size = 50\n",
    "- $\\eta$ = 0.001\n",
    "- Optimizer = Adam($\\eta$=0.001)\n",
    "\n",
    "We perform 5 fold CV one last time to sense check that the final model aligns with the experiments done in parameter tuning.\n",
    "\n",
    "Next we train the model on all the training data, and predict the unlabeled data\n"
   ]
  },
  {
   "cell_type": "code",
   "execution_count": 18,
   "metadata": {},
   "outputs": [
    {
     "name": "stdout",
     "output_type": "stream",
     "text": [
      "Time taken: 528.9s\n"
     ]
    },
    {
     "data": {
      "image/png": "[encoded data removed]",
      "text/plain": [
       "<Figure size 640x480 with 1 Axes>"
      ]
     },
     "metadata": {},
     "output_type": "display_data"
    },
    {
     "name": "stdout",
     "output_type": "stream",
     "text": [
      "Epoch 1/20\n",
      "2000/2000 [==============================] - 9s 4ms/step - loss: 0.4405 - accuracy: 0.7841\n",
      "Epoch 2/20\n",
      "2000/2000 [==============================] - 9s 4ms/step - loss: 0.4400 - accuracy: 0.7844\n",
      "Epoch 3/20\n",
      "2000/2000 [==============================] - 8s 4ms/step - loss: 0.4394 - accuracy: 0.7854\n",
      "Epoch 4/20\n",
      "2000/2000 [==============================] - 8s 4ms/step - loss: 0.4396 - accuracy: 0.7854\n",
      "Epoch 5/20\n",
      "2000/2000 [==============================] - 9s 4ms/step - loss: 0.4389 - accuracy: 0.7849\n",
      "Epoch 6/20\n",
      "2000/2000 [==============================] - 8s 4ms/step - loss: 0.4387 - accuracy: 0.7852\n",
      "Epoch 7/20\n",
      "2000/2000 [==============================] - 8s 4ms/step - loss: 0.4384 - accuracy: 0.7862\n",
      "Epoch 8/20\n",
      "2000/2000 [==============================] - 8s 4ms/step - loss: 0.4382 - accuracy: 0.7854\n",
      "Epoch 9/20\n",
      "2000/2000 [==============================] - 8s 4ms/step - loss: 0.4376 - accuracy: 0.7861\n",
      "Epoch 10/20\n",
      "2000/2000 [==============================] - 8s 4ms/step - loss: 0.4374 - accuracy: 0.7857\n",
      "Epoch 11/20\n",
      "2000/2000 [==============================] - 8s 4ms/step - loss: 0.4368 - accuracy: 0.7866\n",
      "Epoch 12/20\n",
      "2000/2000 [==============================] - 9s 4ms/step - loss: 0.4366 - accuracy: 0.7868\n",
      "Epoch 13/20\n",
      "2000/2000 [==============================] - 8s 4ms/step - loss: 0.4365 - accuracy: 0.7866\n",
      "Epoch 14/20\n",
      "2000/2000 [==============================] - 8s 4ms/step - loss: 0.4360 - accuracy: 0.7871\n",
      "Epoch 15/20\n",
      "2000/2000 [==============================] - 8s 4ms/step - loss: 0.4361 - accuracy: 0.7870\n",
      "Epoch 16/20\n",
      "2000/2000 [==============================] - 8s 4ms/step - loss: 0.4355 - accuracy: 0.7866\n",
      "Epoch 17/20\n",
      "2000/2000 [==============================] - 8s 4ms/step - loss: 0.4349 - accuracy: 0.7875\n",
      "Epoch 18/20\n",
      "2000/2000 [==============================] - 8s 4ms/step - loss: 0.4351 - accuracy: 0.7874\n",
      "Epoch 19/20\n",
      "2000/2000 [==============================] - 8s 4ms/step - loss: 0.4350 - accuracy: 0.7884\n",
      "Epoch 20/20\n",
      "2000/2000 [==============================] - 8s 4ms/step - loss: 0.4346 - accuracy: 0.7879\n",
      "train_accuracy=0.79233\n"
     ]
    }
   ],
   "source": [
    "eta = 0.001\n",
    "batch_size=50\n",
    "optimizer=Adam(eta)\n",
    "epochs=20\n",
    "\n",
    "\n",
    "\n",
    "history = History()\n",
    "model = keras.Sequential([\n",
    "    InputLayer(input_shape=(len(X_train.columns))),\n",
    "    Dense(units=100, activation='elu'),\n",
    "    Dense(units=50, activation='elu'),\n",
    "    Dense(units=20, activation='elu'),\n",
    "    Dense(units=1, activation='sigmoid')\n",
    "])\n",
    "\n",
    "model.compile(optimizer=optimizer, loss=\"binary_crossentropy\", metrics=[\"accuracy\"])\n",
    "\n",
    "# k fold CV\n",
    "k_fold(model=model, X=X_train, Y=y_train, batch_size=batch_size, epochs=epochs, history=History()); plt.show()\n",
    "\n",
    "\n",
    "# Train model on all training data\n",
    "model.fit(X_train, y_train, batch_size=batch_size, epochs=epochs, callbacks=[History()])\n",
    "\n",
    "\n",
    "y_train_pred = model.predict(X_train, verbose=0)\n",
    "y_train_pred = (y_train_pred>0.5).astype(int)\n",
    "train_accuracy = accuracy_score(y_train_pred.flatten(), y_train.to_numpy().flatten())\n",
    "\n",
    "print(f\"{train_accuracy=}\")\n",
    "\n",
    "y_test_pred = model.predict(X_test, verbose=0)\n",
    "y_test_pred = (y_test_pred>0.5).astype(int)\n",
    "\n"
   ]
  },
  {
   "attachments": {},
   "cell_type": "markdown",
   "metadata": {},
   "source": [
    "Save predictions to output file"
   ]
  },
  {
   "cell_type": "code",
   "execution_count": 16,
   "metadata": {},
   "outputs": [],
   "source": [
    "for cid_name in ['02274149_Coxon', '01075416_McGreevy', '02306375_MorenodeVega']:\n",
    "    pd.Series(y_test_pred.flatten()).to_csv(f'./predictions/{cid_name}.txt', index=False, header=False)\n"
   ]
  }
 ],
 "metadata": {
  "kernelspec": {
   "display_name": "venv",
   "language": "python",
   "name": "python3"
  },
  "language_info": {
   "codemirror_mode": {
    "name": "ipython",
    "version": 3
   },
   "file_extension": ".py",
   "mimetype": "text/x-python",
   "name": "python",
   "nbconvert_exporter": "python",
   "pygments_lexer": "ipython3",
   "version": "3.9.11 (tags/v3.9.11:2de452f, Mar 16 2022, 14:33:45) [MSC v.1929 64 bit (AMD64)]"
  },
  "orig_nbformat": 4,
  "vscode": {
   "interpreter": {
    "hash": "d5a4d575a3f9390417db93755ce5d901ca6db577e6a37fb25263f9010c483d1b"
   }
  }
 },
 "nbformat": 4,
 "nbformat_minor": 2
}
