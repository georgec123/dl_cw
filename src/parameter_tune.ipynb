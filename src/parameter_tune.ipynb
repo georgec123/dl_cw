{
 "cells": [
  {
   "cell_type": "code",
   "execution_count": 1,
   "metadata": {},
   "outputs": [],
   "source": [
    "from numpy.random import seed\n",
    "from tensorflow.random import set_seed\n",
    "import random\n",
    "\n",
    "seed(1)\n",
    "set_seed(1)\n",
    "random.seed(1)\n",
    "\n",
    "import pandas as pd\n",
    "from tensorflow import keras\n",
    "from tensorflow.keras import Sequential\n",
    "from tensorflow.keras.layers import Dense, Dropout, Input, InputLayer\n",
    "from keras.callbacks import History \n",
    "from tensorflow.keras.optimizers import SGD, Adam\n",
    "\n",
    "import matplotlib.pyplot as plt \n",
    "\n",
    "from sklearn.model_selection import train_test_split, KFold, ParameterGrid\n",
    "from sklearn.metrics import accuracy_score\n",
    "\n",
    "\n",
    "from utils import k_fold, predict_and_accuracy, get_features, results_to_file\n",
    "\n",
    "plt.style.use('ggplot')"
   ]
  },
  {
   "cell_type": "markdown",
   "metadata": {},
   "source": [
    "### Preprocessing\n",
    "\n",
    "- Standardise numerical cols \n",
    "- Create new features\n"
   ]
  },
  {
   "cell_type": "code",
   "execution_count": 2,
   "metadata": {},
   "outputs": [],
   "source": [
    "df = pd.read_csv('../data/Data_A.csv', header=None)\n",
    "\n",
    "columns=['midprice_up','ss_lob_1_p','ss_lob_1_v','bs_lob_1_p','bs_lob_1_v','ss_lob_2_p','ss_lob_2_v',\n",
    "'bs_lob_2_p','bs_lob_2_v','ss_lob_3_p','ss_lob_3_v','bs_lob_3_p','bs_lob_3_v','ss_lob_4_p','ss_lob_4_v',\n",
    "'bs_lob_4_p','bs_lob_4_v','c1','c2','c3','c4','c5']\n",
    "\n",
    "df.columns = columns\n",
    "\n",
    "price_cols = ['ss_lob_1_p','bs_lob_1_p','ss_lob_2_p','bs_lob_2_p','ss_lob_3_p','bs_lob_3_p','ss_lob_4_p','bs_lob_4_p']\n",
    "vol_cols = ['ss_lob_1_v','bs_lob_1_v','ss_lob_2_v','bs_lob_2_v','ss_lob_3_v','bs_lob_3_v','ss_lob_4_v','bs_lob_4_v']\n",
    "prev_mid_m_cols = ['c1', 'c2', 'c3', 'c4', 'c5']\n",
    "\n",
    "\n",
    "# engineer features\n",
    "df, engineered_cols = get_features(df)\n",
    "\n",
    "\n",
    "# do train test split\n",
    "X = df.drop(columns='midprice_up')\n",
    "y = df['midprice_up']\n",
    "\n",
    "X_train, X_test, y_train, y_test = train_test_split(X, y, test_size=0.2, random_state=1)\n",
    "\n",
    "means = X_train[price_cols+vol_cols+engineered_cols].mean(axis=0)\n",
    "stds = X_train[price_cols+vol_cols+engineered_cols].std(axis=0)\n",
    "\n",
    "def transform(df, means, stds):\n",
    "    return (df-means)/stds\n",
    "\n",
    "X_train[price_cols+vol_cols+engineered_cols] = transform(X_train[price_cols+vol_cols+engineered_cols], means, stds)\n",
    "X_test[price_cols+vol_cols+engineered_cols] = transform(X_test[price_cols+vol_cols+engineered_cols], means, stds)\n",
    "\n"
   ]
  },
  {
   "cell_type": "code",
   "execution_count": 9,
   "metadata": {},
   "outputs": [],
   "source": [
    "def get_default_model(shape: int=None):\n",
    "\n",
    "    if shape is None:\n",
    "        shape = len(X_train.columns)\n",
    "\n",
    "    model = keras.Sequential([\n",
    "        InputLayer(input_shape=(shape)),\n",
    "        Dense(units=100, activation='elu'),\n",
    "        Dense(units=50, activation='elu'),\n",
    "        Dense(units=20, activation='elu'),\n",
    "        Dense(units=1, activation='sigmoid')\n",
    "    ])\n",
    "    return model, History()\n",
    "\n",
    "def get_basic_model(n, shape=None):\n",
    "\n",
    "    if shape is None:\n",
    "        shape = len(X_train.columns)\n",
    "\n",
    "\n",
    "    basic_model  = keras.Sequential([\n",
    "        InputLayer(input_shape=(shape)),\n",
    "        Dense(units=n, activation='elu'),\n",
    "        Dense(units=1, activation='sigmoid')        \n",
    "    ])\n",
    "    return basic_model"
   ]
  },
  {
   "cell_type": "markdown",
   "metadata": {},
   "source": [
    "### Check adding engineered features"
   ]
  },
  {
   "cell_type": "code",
   "execution_count": 19,
   "metadata": {},
   "outputs": [
    {
     "data": {
      "text/html": [
       "<div>\n",
       "<style scoped>\n",
       "    .dataframe tbody tr th:only-of-type {\n",
       "        vertical-align: middle;\n",
       "    }\n",
       "\n",
       "    .dataframe tbody tr th {\n",
       "        vertical-align: top;\n",
       "    }\n",
       "\n",
       "    .dataframe thead th {\n",
       "        text-align: right;\n",
       "    }\n",
       "</style>\n",
       "<table border=\"1\" class=\"dataframe\">\n",
       "  <thead>\n",
       "    <tr style=\"text-align: right;\">\n",
       "      <th></th>\n",
       "      <th>Features</th>\n",
       "      <th>Train Accuracy</th>\n",
       "      <th>Test Accuracy</th>\n",
       "    </tr>\n",
       "  </thead>\n",
       "  <tbody>\n",
       "    <tr>\n",
       "      <th>0</th>\n",
       "      <td>Base Features</td>\n",
       "      <td>0.753038</td>\n",
       "      <td>0.75335</td>\n",
       "    </tr>\n",
       "    <tr>\n",
       "      <th>1</th>\n",
       "      <td>Engineered Features</td>\n",
       "      <td>0.759912</td>\n",
       "      <td>0.76000</td>\n",
       "    </tr>\n",
       "  </tbody>\n",
       "</table>\n",
       "</div>"
      ],
      "text/plain": [
       "              Features  Train Accuracy  Test Accuracy\n",
       "0        Base Features        0.753038        0.75335\n",
       "1  Engineered Features        0.759912        0.76000"
      ]
     },
     "execution_count": 19,
     "metadata": {},
     "output_type": "execute_result"
    }
   ],
   "source": [
    "results = []\n",
    "\n",
    "base_X_train = X_train[price_cols+vol_cols+prev_mid_m_cols]\n",
    "base_X_test = X_test[price_cols+vol_cols+prev_mid_m_cols]\n",
    "\n",
    "training_dict = {'Base Features':(base_X_train, base_X_test), 'Engineered Features':(X_train, X_test)}\n",
    "\n",
    "for k, data in training_dict.items():\n",
    "    \n",
    "    model = get_basic_model(100, shape=data[0].shape[1])\n",
    "\n",
    "    model.compile(optimizer=Adam(), loss=\"binary_crossentropy\", metrics=[\"accuracy\"])\n",
    "\n",
    "    model.fit(data[0], y_train, batch_size=100, epochs=5, callbacks=[History()], verbose=0)\n",
    "    train_a, test_a = predict_and_accuracy(model,  data[0], data[1], y_train, y_test)\n",
    "\n",
    "    results.append({'Features': k, 'Train Accuracy': train_a, 'Test Accuracy': test_a})\n",
    "\n",
    "results_to_file(results, './tables/features_table.tex')\n"
   ]
  },
  {
   "attachments": {},
   "cell_type": "markdown",
   "metadata": {},
   "source": [
    "### Tune model shape"
   ]
  },
  {
   "cell_type": "code",
   "execution_count": 15,
   "metadata": {},
   "outputs": [
    {
     "data": {
      "text/html": [
       "<div>\n",
       "<style scoped>\n",
       "    .dataframe tbody tr th:only-of-type {\n",
       "        vertical-align: middle;\n",
       "    }\n",
       "\n",
       "    .dataframe tbody tr th {\n",
       "        vertical-align: top;\n",
       "    }\n",
       "\n",
       "    .dataframe thead th {\n",
       "        text-align: right;\n",
       "    }\n",
       "</style>\n",
       "<table border=\"1\" class=\"dataframe\">\n",
       "  <thead>\n",
       "    <tr style=\"text-align: right;\">\n",
       "      <th></th>\n",
       "      <th>Model</th>\n",
       "      <th>Train Accuracy</th>\n",
       "      <th>Test Accuracy</th>\n",
       "    </tr>\n",
       "  </thead>\n",
       "  <tbody>\n",
       "    <tr>\n",
       "      <th>0</th>\n",
       "      <td>Basic Model - 20</td>\n",
       "      <td>0.759813</td>\n",
       "      <td>0.75885</td>\n",
       "    </tr>\n",
       "    <tr>\n",
       "      <th>1</th>\n",
       "      <td>Basic Model - 50</td>\n",
       "      <td>0.760463</td>\n",
       "      <td>0.75945</td>\n",
       "    </tr>\n",
       "    <tr>\n",
       "      <th>2</th>\n",
       "      <td>Basic Model - 100</td>\n",
       "      <td>0.760150</td>\n",
       "      <td>0.75905</td>\n",
       "    </tr>\n",
       "    <tr>\n",
       "      <th>3</th>\n",
       "      <td>Basic Model - 200</td>\n",
       "      <td>0.760387</td>\n",
       "      <td>0.76020</td>\n",
       "    </tr>\n",
       "    <tr>\n",
       "      <th>4</th>\n",
       "      <td>Larger Model</td>\n",
       "      <td>0.764475</td>\n",
       "      <td>0.76425</td>\n",
       "    </tr>\n",
       "  </tbody>\n",
       "</table>\n",
       "</div>"
      ],
      "text/plain": [
       "               Model  Train Accuracy  Test Accuracy\n",
       "0   Basic Model - 20        0.759813        0.75885\n",
       "1   Basic Model - 50        0.760463        0.75945\n",
       "2  Basic Model - 100        0.760150        0.75905\n",
       "3  Basic Model - 200        0.760387        0.76020\n",
       "4       Larger Model        0.764475        0.76425"
      ]
     },
     "execution_count": 15,
     "metadata": {},
     "output_type": "execute_result"
    }
   ],
   "source": [
    "results = []\n",
    "\n",
    "models = {\n",
    "        'Basic Model - 20': get_basic_model(20), \n",
    "        'Basic Model - 50': get_basic_model(50),\n",
    "        'Basic Model - 100': get_basic_model(100),\n",
    "        'Basic Model - 200': get_basic_model(200),\n",
    "        'Larger Model': get_default_model()[0]\n",
    "        }\n",
    "\n",
    "for k, model in models.items():\n",
    "    \n",
    "    model.compile(optimizer=Adam(), loss=\"binary_crossentropy\", metrics=[\"accuracy\"])\n",
    "    model.fit(X_train, y_train, batch_size=100, epochs=5, callbacks=[History()], verbose=0)\n",
    "    train_a, test_a = predict_and_accuracy(model,  X_train, X_test, y_train, y_test)\n",
    "    results.append({'Model': k, 'Train Accuracy': train_a, 'Test Accuracy': test_a})\n",
    "\n",
    "results_to_file(results, './tables/models_table.tex')\n"
   ]
  },
  {
   "attachments": {},
   "cell_type": "markdown",
   "metadata": {},
   "source": [
    "### Tune Epochs"
   ]
  },
  {
   "cell_type": "code",
   "execution_count": 18,
   "metadata": {},
   "outputs": [
    {
     "data": {
      "text/html": [
       "<div>\n",
       "<style scoped>\n",
       "    .dataframe tbody tr th:only-of-type {\n",
       "        vertical-align: middle;\n",
       "    }\n",
       "\n",
       "    .dataframe tbody tr th {\n",
       "        vertical-align: top;\n",
       "    }\n",
       "\n",
       "    .dataframe thead th {\n",
       "        text-align: right;\n",
       "    }\n",
       "</style>\n",
       "<table border=\"1\" class=\"dataframe\">\n",
       "  <thead>\n",
       "    <tr style=\"text-align: right;\">\n",
       "      <th></th>\n",
       "      <th>Epochs</th>\n",
       "      <th>Train Accuracy</th>\n",
       "      <th>Test Accuracy</th>\n",
       "    </tr>\n",
       "  </thead>\n",
       "  <tbody>\n",
       "    <tr>\n",
       "      <th>0</th>\n",
       "      <td>2</td>\n",
       "      <td>0.760125</td>\n",
       "      <td>0.75985</td>\n",
       "    </tr>\n",
       "    <tr>\n",
       "      <th>1</th>\n",
       "      <td>5</td>\n",
       "      <td>0.767312</td>\n",
       "      <td>0.76505</td>\n",
       "    </tr>\n",
       "    <tr>\n",
       "      <th>2</th>\n",
       "      <td>10</td>\n",
       "      <td>0.769687</td>\n",
       "      <td>0.76980</td>\n",
       "    </tr>\n",
       "    <tr>\n",
       "      <th>3</th>\n",
       "      <td>20</td>\n",
       "      <td>0.775600</td>\n",
       "      <td>0.76880</td>\n",
       "    </tr>\n",
       "  </tbody>\n",
       "</table>\n",
       "</div>"
      ],
      "text/plain": [
       "   Epochs  Train Accuracy  Test Accuracy\n",
       "0       2        0.760125        0.75985\n",
       "1       5        0.767312        0.76505\n",
       "2      10        0.769687        0.76980\n",
       "3      20        0.775600        0.76880"
      ]
     },
     "execution_count": 18,
     "metadata": {},
     "output_type": "execute_result"
    }
   ],
   "source": [
    "results = []\n",
    "\n",
    "for epochs in [2, 5, 10, 20]:\n",
    "    \n",
    "    model, history = get_default_model()\n",
    "    model.compile(optimizer=Adam(0.003), loss=\"binary_crossentropy\", metrics=[\"accuracy\"])\n",
    "\n",
    "    model.fit(X_train, y_train, batch_size=100, epochs=epochs, callbacks=[history], verbose=0)\n",
    "    train_a, test_a = predict_and_accuracy(model,  X_train, X_test, y_train, y_test)\n",
    "    results.append({'Epochs': epochs, 'Train Accuracy': train_a, 'Test Accuracy': test_a})\n",
    "\n",
    "results_to_file(results, './tables/epochs_table.tex')\n"
   ]
  },
  {
   "attachments": {},
   "cell_type": "markdown",
   "metadata": {},
   "source": [
    "### Tune optimizer"
   ]
  },
  {
   "cell_type": "code",
   "execution_count": 14,
   "metadata": {},
   "outputs": [
    {
     "data": {
      "text/html": [
       "<div>\n",
       "<style scoped>\n",
       "    .dataframe tbody tr th:only-of-type {\n",
       "        vertical-align: middle;\n",
       "    }\n",
       "\n",
       "    .dataframe tbody tr th {\n",
       "        vertical-align: top;\n",
       "    }\n",
       "\n",
       "    .dataframe thead th {\n",
       "        text-align: right;\n",
       "    }\n",
       "</style>\n",
       "<table border=\"1\" class=\"dataframe\">\n",
       "  <thead>\n",
       "    <tr style=\"text-align: right;\">\n",
       "      <th></th>\n",
       "      <th>Optimizer</th>\n",
       "      <th>Train Accuracy</th>\n",
       "      <th>Test Accuracy</th>\n",
       "    </tr>\n",
       "  </thead>\n",
       "  <tbody>\n",
       "    <tr>\n",
       "      <th>0</th>\n",
       "      <td>Adam</td>\n",
       "      <td>0.769813</td>\n",
       "      <td>0.76875</td>\n",
       "    </tr>\n",
       "    <tr>\n",
       "      <th>1</th>\n",
       "      <td>SGD</td>\n",
       "      <td>0.759175</td>\n",
       "      <td>0.75990</td>\n",
       "    </tr>\n",
       "  </tbody>\n",
       "</table>\n",
       "</div>"
      ],
      "text/plain": [
       "  Optimizer  Train Accuracy  Test Accuracy\n",
       "0      Adam        0.769813        0.76875\n",
       "1       SGD        0.759175        0.75990"
      ]
     },
     "execution_count": 14,
     "metadata": {},
     "output_type": "execute_result"
    }
   ],
   "source": [
    "results = []\n",
    "\n",
    "for optimizer in [Adam(), SGD()]:\n",
    "    \n",
    "    model, history = get_default_model()\n",
    "    model.compile(optimizer=optimizer, loss=\"binary_crossentropy\", metrics=[\"accuracy\"])\n",
    "\n",
    "    model.fit(X_train, y_train, batch_size=100, epochs=10, callbacks=[history], verbose=0)\n",
    "    train_a, test_a = predict_and_accuracy(model,  X_train, X_test, y_train, y_test)\n",
    "    results.append({'Optimizer': optimizer.get_config()['name'], 'Train Accuracy': train_a, 'Test Accuracy': test_a})\n",
    "\n",
    "results_to_file(results, './tables/optimizer_table.tex')"
   ]
  },
  {
   "attachments": {},
   "cell_type": "markdown",
   "metadata": {},
   "source": [
    "### Tune batch size"
   ]
  },
  {
   "cell_type": "code",
   "execution_count": 15,
   "metadata": {},
   "outputs": [
    {
     "data": {
      "text/html": [
       "<div>\n",
       "<style scoped>\n",
       "    .dataframe tbody tr th:only-of-type {\n",
       "        vertical-align: middle;\n",
       "    }\n",
       "\n",
       "    .dataframe tbody tr th {\n",
       "        vertical-align: top;\n",
       "    }\n",
       "\n",
       "    .dataframe thead th {\n",
       "        text-align: right;\n",
       "    }\n",
       "</style>\n",
       "<table border=\"1\" class=\"dataframe\">\n",
       "  <thead>\n",
       "    <tr style=\"text-align: right;\">\n",
       "      <th></th>\n",
       "      <th>Batch Size</th>\n",
       "      <th>Train Accuracy</th>\n",
       "      <th>Test Accuracy</th>\n",
       "    </tr>\n",
       "  </thead>\n",
       "  <tbody>\n",
       "    <tr>\n",
       "      <th>0</th>\n",
       "      <td>50</td>\n",
       "      <td>0.770138</td>\n",
       "      <td>0.76870</td>\n",
       "    </tr>\n",
       "    <tr>\n",
       "      <th>1</th>\n",
       "      <td>100</td>\n",
       "      <td>0.769737</td>\n",
       "      <td>0.76745</td>\n",
       "    </tr>\n",
       "    <tr>\n",
       "      <th>2</th>\n",
       "      <td>500</td>\n",
       "      <td>0.763475</td>\n",
       "      <td>0.76280</td>\n",
       "    </tr>\n",
       "    <tr>\n",
       "      <th>3</th>\n",
       "      <td>1000</td>\n",
       "      <td>0.762288</td>\n",
       "      <td>0.76090</td>\n",
       "    </tr>\n",
       "  </tbody>\n",
       "</table>\n",
       "</div>"
      ],
      "text/plain": [
       "   Batch Size  Train Accuracy  Test Accuracy\n",
       "0          50        0.770138        0.76870\n",
       "1         100        0.769737        0.76745\n",
       "2         500        0.763475        0.76280\n",
       "3        1000        0.762288        0.76090"
      ]
     },
     "execution_count": 15,
     "metadata": {},
     "output_type": "execute_result"
    }
   ],
   "source": [
    "results = []\n",
    "\n",
    "for batch_size in [50, 100, 500, 1000]:\n",
    "    \n",
    "    model, history = get_default_model()\n",
    "    model.compile(optimizer=Adam(), loss=\"binary_crossentropy\", metrics=[\"accuracy\"])\n",
    "\n",
    "    model.fit(X_train, y_train, batch_size=batch_size, epochs=10, callbacks=[history], verbose=0)\n",
    "    train_a, test_a = predict_and_accuracy(model,  X_train, X_test, y_train, y_test)\n",
    "    results.append({'Batch Size': batch_size, 'Train Accuracy': train_a, 'Test Accuracy': test_a})\n",
    "\n",
    "\n",
    "results_to_file(results, './tables/batch_table.tex')"
   ]
  },
  {
   "attachments": {},
   "cell_type": "markdown",
   "metadata": {},
   "source": [
    "#### Tune Eta"
   ]
  },
  {
   "cell_type": "code",
   "execution_count": 14,
   "metadata": {},
   "outputs": [
    {
     "data": {
      "text/html": [
       "<div>\n",
       "<style scoped>\n",
       "    .dataframe tbody tr th:only-of-type {\n",
       "        vertical-align: middle;\n",
       "    }\n",
       "\n",
       "    .dataframe tbody tr th {\n",
       "        vertical-align: top;\n",
       "    }\n",
       "\n",
       "    .dataframe thead th {\n",
       "        text-align: right;\n",
       "    }\n",
       "</style>\n",
       "<table border=\"1\" class=\"dataframe\">\n",
       "  <thead>\n",
       "    <tr style=\"text-align: right;\">\n",
       "      <th></th>\n",
       "      <th>Learning Rate</th>\n",
       "      <th>Train Accuracy</th>\n",
       "      <th>Test Accuracy</th>\n",
       "    </tr>\n",
       "  </thead>\n",
       "  <tbody>\n",
       "    <tr>\n",
       "      <th>0</th>\n",
       "      <td>0.001</td>\n",
       "      <td>0.768525</td>\n",
       "      <td>0.76785</td>\n",
       "    </tr>\n",
       "    <tr>\n",
       "      <th>1</th>\n",
       "      <td>0.003</td>\n",
       "      <td>0.771412</td>\n",
       "      <td>0.76900</td>\n",
       "    </tr>\n",
       "    <tr>\n",
       "      <th>2</th>\n",
       "      <td>0.01</td>\n",
       "      <td>0.763900</td>\n",
       "      <td>0.76015</td>\n",
       "    </tr>\n",
       "    <tr>\n",
       "      <th>3</th>\n",
       "      <td>0.05</td>\n",
       "      <td>0.502800</td>\n",
       "      <td>0.50220</td>\n",
       "    </tr>\n",
       "  </tbody>\n",
       "</table>\n",
       "</div>"
      ],
      "text/plain": [
       "  Learning Rate  Train Accuracy  Test Accuracy\n",
       "0         0.001        0.768525        0.76785\n",
       "1         0.003        0.771412        0.76900\n",
       "2          0.01        0.763900        0.76015\n",
       "3          0.05        0.502800        0.50220"
      ]
     },
     "execution_count": 14,
     "metadata": {},
     "output_type": "execute_result"
    }
   ],
   "source": [
    "results = []\n",
    "\n",
    "for eta in [0.001, 0.003, 0.01, 0.05]:\n",
    "\n",
    "    model, history = get_default_model()\n",
    "\n",
    "    model.compile(optimizer=Adam(learning_rate=eta), loss=\"binary_crossentropy\", metrics=[\"accuracy\"])\n",
    "\n",
    "    model.fit(X_train, y_train, batch_size=100, epochs=10, callbacks=[history], verbose=0)\n",
    "    train_a, test_a = predict_and_accuracy(model,  X_train, X_test, y_train, y_test)\n",
    "    \n",
    "    results.append({'Learning Rate':f\"{eta}\", 'Train Accuracy': train_a, 'Test Accuracy': test_a})\n",
    "\n",
    "results_to_file(results, './tables/eta_table.tex')\n"
   ]
  },
  {
   "cell_type": "markdown",
   "metadata": {},
   "source": [
    "#### Do 5 fold Cross Validation to check for model stability\n",
    "We want to ensure the model is stable over different train test windows  "
   ]
  },
  {
   "cell_type": "code",
   "execution_count": 17,
   "metadata": {},
   "outputs": [
    {
     "name": "stdout",
     "output_type": "stream",
     "text": [
      "train: 0.7698, test: 0.7684\n",
      "Time taken: 118.9s\n"
     ]
    },
    {
     "data": {
      "image/png": "[encoded data removed]",
      "text/plain": [
       "<Figure size 640x480 with 1 Axes>"
      ]
     },
     "metadata": {},
     "output_type": "display_data"
    }
   ],
   "source": [
    "eta = 0.003\n",
    "batch_size=100\n",
    "optimizer=Adam(eta)\n",
    "epochs=10\n",
    "\n",
    "\n",
    "model, history = get_default_model()\n",
    "model.compile(optimizer=optimizer, loss=\"binary_crossentropy\", metrics=[\"accuracy\"])\n",
    "\n",
    "\n",
    "model.fit(X_train, y_train, batch_size=batch_size, epochs=epochs, callbacks=[history], verbose=0)\n",
    "train_a, test_a = predict_and_accuracy(model,  X_train, X_test, y_train, y_test)\n",
    "print(f\"train: {train_a:.4f}, test: {test_a:.4f}\")\n",
    "\n",
    "k_fold(model, X_train, y_train, batch_size=batch_size, epochs=epochs, history=history)\n",
    "plt.savefig('./plots/kfold_cv.png')\n"
   ]
  }
 ],
 "metadata": {
  "kernelspec": {
   "display_name": "Python 3.9.11 ('venv': venv)",
   "language": "python",
   "name": "python3"
  },
  "language_info": {
   "codemirror_mode": {
    "name": "ipython",
    "version": 3
   },
   "file_extension": ".py",
   "mimetype": "text/x-python",
   "name": "python",
   "nbconvert_exporter": "python",
   "pygments_lexer": "ipython3",
   "version": "3.9.11"
  },
  "orig_nbformat": 4,
  "vscode": {
   "interpreter": {
    "hash": "d5a4d575a3f9390417db93755ce5d901ca6db577e6a37fb25263f9010c483d1b"
   }
  }
 },
 "nbformat": 4,
 "nbformat_minor": 2
}
