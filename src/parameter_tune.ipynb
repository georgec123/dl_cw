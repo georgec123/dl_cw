{
 "cells": [
  {
   "cell_type": "code",
   "execution_count": 1,
   "metadata": {},
   "outputs": [],
   "source": [
    "from numpy.random import seed\n",
    "from tensorflow.random import set_seed\n",
    "import random\n",
    "\n",
    "seed(1)\n",
    "set_seed(1)\n",
    "random.seed(1)\n",
    "\n",
    "import pandas as pd\n",
    "from tensorflow import keras\n",
    "from tensorflow.keras import Sequential\n",
    "from tensorflow.keras.layers import Dense, Dropout, Input, InputLayer\n",
    "from keras.callbacks import History \n",
    "from tensorflow.keras.optimizers import SGD, Adam\n",
    "\n",
    "import matplotlib.pyplot as plt \n",
    "\n",
    "from sklearn.model_selection import train_test_split, KFold, ParameterGrid\n",
    "from sklearn.metrics import accuracy_score\n",
    "\n",
    "\n",
    "from utils import k_fold, predict_and_accuracy, get_features"
   ]
  },
  {
   "cell_type": "markdown",
   "metadata": {},
   "source": [
    "### Preprocessing\n",
    "\n",
    "- Standardise numerical cols \n",
    "- Create new features\n"
   ]
  },
  {
   "cell_type": "code",
   "execution_count": 2,
   "metadata": {},
   "outputs": [],
   "source": [
    "df = pd.read_csv('../data/Data_A.csv', header=None)\n",
    "\n",
    "columns=['midprice_up','ss_lob_1_p','ss_lob_1_v','bs_lob_1_p','bs_lob_1_v','ss_lob_2_p','ss_lob_2_v',\n",
    "'bs_lob_2_p','bs_lob_2_v','ss_lob_3_p','ss_lob_3_v','bs_lob_3_p','bs_lob_3_v','ss_lob_4_p','ss_lob_4_v',\n",
    "'bs_lob_4_p','bs_lob_4_v','c1','c2','c3','c4','c5']\n",
    "\n",
    "df.columns = columns\n",
    "\n",
    "price_cols = ['ss_lob_1_p','bs_lob_1_p','ss_lob_2_p','bs_lob_2_p','ss_lob_3_p','bs_lob_3_p','ss_lob_4_p','bs_lob_4_p']\n",
    "vol_cols = ['ss_lob_1_v','bs_lob_1_v','ss_lob_2_v','bs_lob_2_v','ss_lob_3_v','bs_lob_3_v','ss_lob_4_v','bs_lob_4_v']\n",
    "prev_mid_m_cols = ['c1', 'c2', 'c3', 'c4', 'c5']\n",
    "\n",
    "\n",
    "# engineer features\n",
    "df, engineered_cols = get_features(df)\n",
    "\n",
    "\n",
    "# do train test split\n",
    "X = df.drop(columns='midprice_up')\n",
    "y = df['midprice_up']\n",
    "\n",
    "X_train, X_test, y_train, y_test = train_test_split(X, y, test_size=0.2, random_state=1)\n",
    "\n",
    "means = X_train[price_cols+vol_cols+engineered_cols].mean(axis=0)\n",
    "stds = X_train[price_cols+vol_cols+engineered_cols].std(axis=0)\n",
    "\n",
    "def transform(df, means, stds):\n",
    "    return (df-means)/stds\n",
    "\n",
    "X_train[price_cols+vol_cols+engineered_cols] = transform(X_train[price_cols+vol_cols+engineered_cols], means, stds)\n",
    "X_test[price_cols+vol_cols+engineered_cols] = transform(X_test[price_cols+vol_cols+engineered_cols], means, stds)\n",
    "\n"
   ]
  },
  {
   "cell_type": "code",
   "execution_count": 3,
   "metadata": {},
   "outputs": [],
   "source": [
    "def get_default_model():\n",
    "    model = keras.Sequential([\n",
    "        InputLayer(input_shape=(len(X_train.columns))),\n",
    "        Dense(units=100, activation='elu'),\n",
    "        Dense(units=50, activation='elu'),\n",
    "        Dense(units=20, activation='elu'),\n",
    "        Dense(units=1, activation='sigmoid')\n",
    "    ])\n",
    "    history = History()\n",
    "\n",
    "    return model, history"
   ]
  },
  {
   "attachments": {},
   "cell_type": "markdown",
   "metadata": {},
   "source": [
    "### Tune Epochs"
   ]
  },
  {
   "cell_type": "code",
   "execution_count": 45,
   "metadata": {},
   "outputs": [
    {
     "name": "stdout",
     "output_type": "stream",
     "text": [
      "epochs=5\n",
      "epochs=10\n",
      "epochs=20\n"
     ]
    },
    {
     "data": {
      "text/html": [
       "<div>\n",
       "<style scoped>\n",
       "    .dataframe tbody tr th:only-of-type {\n",
       "        vertical-align: middle;\n",
       "    }\n",
       "\n",
       "    .dataframe tbody tr th {\n",
       "        vertical-align: top;\n",
       "    }\n",
       "\n",
       "    .dataframe thead th {\n",
       "        text-align: right;\n",
       "    }\n",
       "</style>\n",
       "<table border=\"1\" class=\"dataframe\">\n",
       "  <thead>\n",
       "    <tr style=\"text-align: right;\">\n",
       "      <th></th>\n",
       "      <th>Epochs</th>\n",
       "      <th>Train Accuracy</th>\n",
       "      <th>Test Accuracy</th>\n",
       "    </tr>\n",
       "  </thead>\n",
       "  <tbody>\n",
       "    <tr>\n",
       "      <th>0</th>\n",
       "      <td>5</td>\n",
       "      <td>0.763200</td>\n",
       "      <td>0.76465</td>\n",
       "    </tr>\n",
       "    <tr>\n",
       "      <th>1</th>\n",
       "      <td>10</td>\n",
       "      <td>0.769025</td>\n",
       "      <td>0.76605</td>\n",
       "    </tr>\n",
       "    <tr>\n",
       "      <th>2</th>\n",
       "      <td>20</td>\n",
       "      <td>0.773000</td>\n",
       "      <td>0.77060</td>\n",
       "    </tr>\n",
       "  </tbody>\n",
       "</table>\n",
       "</div>"
      ],
      "text/plain": [
       "   Epochs  Train Accuracy  Test Accuracy\n",
       "0       5        0.763200        0.76465\n",
       "1      10        0.769025        0.76605\n",
       "2      20        0.773000        0.77060"
      ]
     },
     "execution_count": 45,
     "metadata": {},
     "output_type": "execute_result"
    }
   ],
   "source": [
    "results = []\n",
    "\n",
    "for epochs in [5, 10,20]:\n",
    "    print(f\"{epochs=}\")\n",
    "    \n",
    "    model, history = get_default_model()\n",
    "    \n",
    "    model.compile(optimizer=Adam(), loss=\"binary_crossentropy\", metrics=[\"accuracy\"])\n",
    "\n",
    "    model.fit(X_train, y_train, batch_size=100, epochs=epochs, callbacks=[history], verbose=0)\n",
    "    train_a, test_a = predict_and_accuracy(model,  X_train, X_test, y_train, y_test)\n",
    "\n",
    "    results.append({'Epochs': epochs, 'Train Accuracy': train_a, 'Test Accuracy': test_a})\n",
    "\n",
    "\n",
    "df = pd.DataFrame(results)\n",
    "df.style.format(na_rep='-', precision=4).hide(axis=\"index\").to_latex('./tables/epochs_table.tex')\n",
    "df"
   ]
  },
  {
   "attachments": {},
   "cell_type": "markdown",
   "metadata": {},
   "source": [
    "### Tune optimizer"
   ]
  },
  {
   "cell_type": "code",
   "execution_count": 44,
   "metadata": {},
   "outputs": [
    {
     "data": {
      "text/html": [
       "<div>\n",
       "<style scoped>\n",
       "    .dataframe tbody tr th:only-of-type {\n",
       "        vertical-align: middle;\n",
       "    }\n",
       "\n",
       "    .dataframe tbody tr th {\n",
       "        vertical-align: top;\n",
       "    }\n",
       "\n",
       "    .dataframe thead th {\n",
       "        text-align: right;\n",
       "    }\n",
       "</style>\n",
       "<table border=\"1\" class=\"dataframe\">\n",
       "  <thead>\n",
       "    <tr style=\"text-align: right;\">\n",
       "      <th></th>\n",
       "      <th>Optimizer</th>\n",
       "      <th>Train Accuracy</th>\n",
       "      <th>Test Accuracy</th>\n",
       "    </tr>\n",
       "  </thead>\n",
       "  <tbody>\n",
       "    <tr>\n",
       "      <th>0</th>\n",
       "      <td>Adam</td>\n",
       "      <td>0.767288</td>\n",
       "      <td>0.7653</td>\n",
       "    </tr>\n",
       "    <tr>\n",
       "      <th>1</th>\n",
       "      <td>SGD</td>\n",
       "      <td>0.757775</td>\n",
       "      <td>0.7597</td>\n",
       "    </tr>\n",
       "  </tbody>\n",
       "</table>\n",
       "</div>"
      ],
      "text/plain": [
       "  Optimizer  Train Accuracy  Test Accuracy\n",
       "0      Adam        0.767288         0.7653\n",
       "1       SGD        0.757775         0.7597"
      ]
     },
     "execution_count": 44,
     "metadata": {},
     "output_type": "execute_result"
    }
   ],
   "source": [
    "results = []\n",
    "\n",
    "for optimizer in [Adam(), SGD()]:\n",
    "    \n",
    "    model, history = get_default_model()\n",
    "    model.compile(optimizer=optimizer, loss=\"binary_crossentropy\", metrics=[\"accuracy\"])\n",
    "\n",
    "    model.fit(X_train, y_train, batch_size=100, epochs=10, callbacks=[history], verbose=0)\n",
    "    train_a, test_a = predict_and_accuracy(model,  X_train, X_test, y_train, y_test)\n",
    "    results.append({'Optimizer': optimizer.get_config()['name'], 'Train Accuracy': train_a, 'Test Accuracy': test_a})\n",
    "\n",
    "df = pd.DataFrame(results)\n",
    "df.style.format(na_rep='-', precision=4).hide(axis=\"index\").to_latex('./tables/optimizer_table.tex')\n",
    "df"
   ]
  },
  {
   "attachments": {},
   "cell_type": "markdown",
   "metadata": {},
   "source": [
    "### Tune batch size"
   ]
  },
  {
   "cell_type": "code",
   "execution_count": 46,
   "metadata": {},
   "outputs": [
    {
     "name": "stdout",
     "output_type": "stream",
     "text": [
      "batch_size=50\n",
      "batch_size=100\n",
      "batch_size=500\n",
      "batch_size=1000\n"
     ]
    },
    {
     "data": {
      "text/html": [
       "<div>\n",
       "<style scoped>\n",
       "    .dataframe tbody tr th:only-of-type {\n",
       "        vertical-align: middle;\n",
       "    }\n",
       "\n",
       "    .dataframe tbody tr th {\n",
       "        vertical-align: top;\n",
       "    }\n",
       "\n",
       "    .dataframe thead th {\n",
       "        text-align: right;\n",
       "    }\n",
       "</style>\n",
       "<table border=\"1\" class=\"dataframe\">\n",
       "  <thead>\n",
       "    <tr style=\"text-align: right;\">\n",
       "      <th></th>\n",
       "      <th>Batch Size</th>\n",
       "      <th>Train Accuracy</th>\n",
       "      <th>Test Accuracy</th>\n",
       "    </tr>\n",
       "  </thead>\n",
       "  <tbody>\n",
       "    <tr>\n",
       "      <th>0</th>\n",
       "      <td>50</td>\n",
       "      <td>0.768875</td>\n",
       "      <td>0.76750</td>\n",
       "    </tr>\n",
       "    <tr>\n",
       "      <th>1</th>\n",
       "      <td>100</td>\n",
       "      <td>0.768250</td>\n",
       "      <td>0.76635</td>\n",
       "    </tr>\n",
       "    <tr>\n",
       "      <th>2</th>\n",
       "      <td>500</td>\n",
       "      <td>0.761975</td>\n",
       "      <td>0.76130</td>\n",
       "    </tr>\n",
       "    <tr>\n",
       "      <th>3</th>\n",
       "      <td>1000</td>\n",
       "      <td>0.761188</td>\n",
       "      <td>0.75875</td>\n",
       "    </tr>\n",
       "  </tbody>\n",
       "</table>\n",
       "</div>"
      ],
      "text/plain": [
       "   Batch Size  Train Accuracy  Test Accuracy\n",
       "0          50        0.768875        0.76750\n",
       "1         100        0.768250        0.76635\n",
       "2         500        0.761975        0.76130\n",
       "3        1000        0.761188        0.75875"
      ]
     },
     "execution_count": 46,
     "metadata": {},
     "output_type": "execute_result"
    }
   ],
   "source": [
    "results = []\n",
    "\n",
    "for batch_size in [50, 100, 500, 1000]:\n",
    "    print(f\"{batch_size=}\")\n",
    "\n",
    "    model, history = get_default_model()\n",
    "\n",
    "    model.compile(optimizer=Adam(), loss=\"binary_crossentropy\", metrics=[\"accuracy\"])\n",
    "\n",
    "    model.fit(X_train, y_train, batch_size=batch_size, epochs=10, callbacks=[history], verbose=0)\n",
    "    train_a, test_a = predict_and_accuracy(model,  X_train, X_test, y_train, y_test)\n",
    "    results.append({'Batch Size': batch_size, 'Train Accuracy': train_a, 'Test Accuracy': test_a})\n",
    "\n",
    "df = pd.DataFrame(results)\n",
    "df.style.format(na_rep='-', precision=4).hide(axis=\"index\").to_latex('./tables/batch_table.tex')\n",
    "df\n"
   ]
  },
  {
   "attachments": {},
   "cell_type": "markdown",
   "metadata": {},
   "source": [
    "#### Tune Eta"
   ]
  },
  {
   "cell_type": "code",
   "execution_count": 47,
   "metadata": {},
   "outputs": [
    {
     "data": {
      "text/html": [
       "<div>\n",
       "<style scoped>\n",
       "    .dataframe tbody tr th:only-of-type {\n",
       "        vertical-align: middle;\n",
       "    }\n",
       "\n",
       "    .dataframe tbody tr th {\n",
       "        vertical-align: top;\n",
       "    }\n",
       "\n",
       "    .dataframe thead th {\n",
       "        text-align: right;\n",
       "    }\n",
       "</style>\n",
       "<table border=\"1\" class=\"dataframe\">\n",
       "  <thead>\n",
       "    <tr style=\"text-align: right;\">\n",
       "      <th></th>\n",
       "      <th>eta</th>\n",
       "      <th>train</th>\n",
       "      <th>test</th>\n",
       "    </tr>\n",
       "  </thead>\n",
       "  <tbody>\n",
       "    <tr>\n",
       "      <th>0</th>\n",
       "      <td>0.001</td>\n",
       "      <td>0.767550</td>\n",
       "      <td>0.76520</td>\n",
       "    </tr>\n",
       "    <tr>\n",
       "      <th>1</th>\n",
       "      <td>0.003</td>\n",
       "      <td>0.768725</td>\n",
       "      <td>0.76815</td>\n",
       "    </tr>\n",
       "    <tr>\n",
       "      <th>2</th>\n",
       "      <td>0.010</td>\n",
       "      <td>0.765188</td>\n",
       "      <td>0.76540</td>\n",
       "    </tr>\n",
       "    <tr>\n",
       "      <th>3</th>\n",
       "      <td>0.050</td>\n",
       "      <td>0.502788</td>\n",
       "      <td>0.50220</td>\n",
       "    </tr>\n",
       "  </tbody>\n",
       "</table>\n",
       "</div>"
      ],
      "text/plain": [
       "     eta     train     test\n",
       "0  0.001  0.767550  0.76520\n",
       "1  0.003  0.768725  0.76815\n",
       "2  0.010  0.765188  0.76540\n",
       "3  0.050  0.502788  0.50220"
      ]
     },
     "execution_count": 47,
     "metadata": {},
     "output_type": "execute_result"
    }
   ],
   "source": [
    "results = []\n",
    "\n",
    "for eta in [0.001, 0.003, 0.01, 0.05]:\n",
    "\n",
    "    model, history = get_default_model()\n",
    "\n",
    "    model.compile(optimizer=Adam(learning_rate=eta), loss=\"binary_crossentropy\", metrics=[\"accuracy\"])\n",
    "\n",
    "    model.fit(X_train, y_train, batch_size=100, epochs=10, callbacks=[history], verbose=0)\n",
    "    train_a, test_a = predict_and_accuracy(model,  X_train, X_test, y_train, y_test)\n",
    "    \n",
    "    results.append({'eta':eta, 'train': train_a, 'test': test_a})\n",
    "\n",
    "df = pd.DataFrame(results)\n",
    "df.style.format(na_rep='-', precision=4).hide(axis=\"index\").to_latex('./tables/eta_table.tex')\n",
    "df\n"
   ]
  },
  {
   "cell_type": "markdown",
   "metadata": {},
   "source": [
    "#### Do 5 fold Cross Validation to check for model stability\n",
    "We want to ensure the model is stable over different train test windows  "
   ]
  },
  {
   "cell_type": "code",
   "execution_count": 4,
   "metadata": {},
   "outputs": [
    {
     "name": "stdout",
     "output_type": "stream",
     "text": [
      "train: 0.7699, test: 0.7666\n",
      "Time taken: 120.9s\n"
     ]
    },
    {
     "data": {
      "image/png": "[encoded data removed]",
      "text/plain": [
       "<Figure size 640x480 with 1 Axes>"
      ]
     },
     "metadata": {},
     "output_type": "display_data"
    }
   ],
   "source": [
    "eta = 0.003\n",
    "batch_size=100\n",
    "optimizer=Adam(eta)\n",
    "epochs=10\n",
    "\n",
    "\n",
    "model, history = get_default_model()\n",
    "model.compile(optimizer=optimizer, loss=\"binary_crossentropy\", metrics=[\"accuracy\"])\n",
    "\n",
    "\n",
    "model.fit(X_train, y_train, batch_size=batch_size, epochs=epochs, callbacks=[history], verbose=0)\n",
    "train_a, test_a = predict_and_accuracy(model,  X_train, X_test, y_train, y_test)\n",
    "print(f\"train: {train_a:.4f}, test: {test_a:.4f}\")\n",
    "\n",
    "k_fold(model, X_train, y_train, batch_size=batch_size, epochs=epochs, history=history)\n",
    "plt.savefig('./plots/kfold_cv.png')\n"
   ]
  }
 ],
 "metadata": {
  "kernelspec": {
   "display_name": "Python 3.9.11 ('venv': venv)",
   "language": "python",
   "name": "python3"
  },
  "language_info": {
   "codemirror_mode": {
    "name": "ipython",
    "version": 3
   },
   "file_extension": ".py",
   "mimetype": "text/x-python",
   "name": "python",
   "nbconvert_exporter": "python",
   "pygments_lexer": "ipython3",
   "version": "3.9.11"
  },
  "orig_nbformat": 4,
  "vscode": {
   "interpreter": {
    "hash": "d5a4d575a3f9390417db93755ce5d901ca6db577e6a37fb25263f9010c483d1b"
   }
  }
 },
 "nbformat": 4,
 "nbformat_minor": 2
}
