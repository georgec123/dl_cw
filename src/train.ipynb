{
 "cells": [
  {
   "cell_type": "code",
   "execution_count": 30,
   "metadata": {},
   "outputs": [],
   "source": [
    "import pandas as pd\n",
    "from tensorflow import keras\n",
    "from tensorflow.keras import Sequential\n",
    "from tensorflow.keras.layers import Dense, Dropout, Input, InputLayer\n",
    "import matplotlib.pyplot as plt "
   ]
  },
  {
   "cell_type": "code",
   "execution_count": 44,
   "metadata": {},
   "outputs": [],
   "source": [
    "df = pd.read_csv('../data/Data_A.csv', header=None)\n",
    "\n",
    "columns=['midprice_up','ss_lob_1_p','ss_lob_1_v','bs_lob_1_p','bs_lob_1_v','ss_lob_2_p','ss_lob_2_v',\n",
    "'bs_lob_2_p','bs_lob_2_v','ss_lob_3_p','ss_lob_3_v','bs_lob_3_p','bs_lob_3_v','ss_lob_4_p','ss_lob_4_v',\n",
    "'bs_lob_4_p','bs_lob_4_v','c1','c2','c3','c4','c5']\n",
    "\n",
    "df.columns = columns"
   ]
  },
  {
   "cell_type": "code",
   "execution_count": 4,
   "metadata": {},
   "outputs": [],
   "source": [
    "price_cols = ['ss_lob_1_p','bs_lob_1_p','ss_lob_2_p','bs_lob_2_p','ss_lob_3_p','bs_lob_3_p','ss_lob_4_p','bs_lob_4_p']\n",
    "vol_cols = ['ss_lob_1_v','bs_lob_1_v','ss_lob_2_v','bs_lob_2_v','ss_lob_3_v','bs_lob_3_v','ss_lob_4_v','bs_lob_4_v']\n",
    "prev_mid_m_cols = ['c1', 'c2', 'c3', 'c4', 'c5']\n",
    "\n",
    "price_df = df[price_cols]\n",
    "\n",
    "min_price = price_df.min().min()\n",
    "max_price = price_df.max().max()\n",
    "\n",
    "vol_df = df[vol_cols]\n",
    "\n",
    "min_vol = vol_df.min().min()\n",
    "max_vol = vol_df.max().max()\n",
    "\n",
    "price_transformer = lambda x: (x-min_price)/(max_price-min_price)\n",
    "vol_transformer = lambda x: (x-min_vol)/(max_vol-min_vol)\n",
    "\n"
   ]
  },
  {
   "cell_type": "code",
   "execution_count": 5,
   "metadata": {},
   "outputs": [],
   "source": [
    "df[vol_cols] = vol_transformer(df[vol_cols])\n",
    "df[price_cols] = price_transformer(df[price_cols])\n"
   ]
  },
  {
   "cell_type": "code",
   "execution_count": 20,
   "metadata": {},
   "outputs": [],
   "source": [
    "# flag for if there is buyside pressure, ie vol below>vol above\n",
    "df['bs_pressure1'] = (df['bs_lob_1_v']>df['ss_lob_1_v']).astype(int)\n",
    "df['bs_pressure2'] = ((df['bs_lob_1_v']+df['bs_lob_2_v'])>(df['ss_lob_1_v']+df['ss_lob_2_v'])).astype(int)\n",
    "\n",
    "df['l1_diff']= df['ss_lob_1_v']-df['bs_lob_1_v']\n",
    "\n",
    "df['avg_5'] = df[prev_mid_m_cols].mean(axis=1)\n",
    "df['momentum_up'] = (df['avg_5']>0.5).astype(int)\n",
    "\n",
    "\n",
    "df['vwap_bs_2'] = ((df['bs_lob_1_v']*df['bs_lob_1_p']) + (df['bs_lob_2_v']*df['bs_lob_2_p'])) /(df['bs_lob_1_v']+df['bs_lob_2_v'])\n",
    "df['vwap_ss_2'] = ((df['ss_lob_1_v']*df['ss_lob_1_p']) + (df['ss_lob_2_v']*df['ss_lob_2_p'])) /(df['ss_lob_1_v']+df['ss_lob_2_v'])\n",
    "\n"
   ]
  },
  {
   "cell_type": "code",
   "execution_count": null,
   "metadata": {},
   "outputs": [],
   "source": []
  },
  {
   "cell_type": "markdown",
   "metadata": {},
   "source": [
    "##### Train with only L1 order book diff feature\n",
    "\n",
    "- Only need 1 layer of NN for this with 1 node"
   ]
  },
  {
   "cell_type": "code",
   "execution_count": null,
   "metadata": {},
   "outputs": [
    {
     "name": "stdout",
     "output_type": "stream",
     "text": [
      "Epoch 1/20\n",
      "200/200 [==============================] - 1s 764us/step - loss: 0.6763 - accuracy: 0.5914\n",
      "Epoch 2/20\n",
      "200/200 [==============================] - 0s 749us/step - loss: 0.6273 - accuracy: 0.7186\n",
      "Epoch 3/20\n",
      "200/200 [==============================] - 0s 745us/step - loss: 0.6201 - accuracy: 0.7240\n",
      "Epoch 4/20\n",
      "200/200 [==============================] - 0s 760us/step - loss: 0.6193 - accuracy: 0.7289\n",
      "Epoch 5/20\n",
      "200/200 [==============================] - 0s 744us/step - loss: 0.6195 - accuracy: 0.7289\n",
      "Epoch 6/20\n",
      "200/200 [==============================] - 0s 749us/step - loss: 0.6181 - accuracy: 0.7333\n",
      "Epoch 7/20\n",
      "200/200 [==============================] - 0s 754us/step - loss: 0.6173 - accuracy: 0.7356\n",
      "Epoch 8/20\n",
      "200/200 [==============================] - 0s 841us/step - loss: 0.6170 - accuracy: 0.7351\n",
      "Epoch 9/20\n",
      "200/200 [==============================] - 0s 775us/step - loss: 0.6174 - accuracy: 0.7347\n",
      "Epoch 10/20\n",
      "200/200 [==============================] - 0s 754us/step - loss: 0.6175 - accuracy: 0.7318\n",
      "Epoch 11/20\n",
      "200/200 [==============================] - 0s 759us/step - loss: 0.6168 - accuracy: 0.7354\n",
      "Epoch 12/20\n",
      "200/200 [==============================] - 0s 819us/step - loss: 0.6163 - accuracy: 0.7365\n",
      "Epoch 13/20\n",
      "200/200 [==============================] - 0s 785us/step - loss: 0.6161 - accuracy: 0.7354\n",
      "Epoch 14/20\n",
      "200/200 [==============================] - 0s 759us/step - loss: 0.6164 - accuracy: 0.7355\n",
      "Epoch 15/20\n",
      "200/200 [==============================] - 0s 749us/step - loss: 0.6161 - accuracy: 0.7345\n",
      "Epoch 16/20\n",
      "200/200 [==============================] - 0s 734us/step - loss: 0.6159 - accuracy: 0.7351\n",
      "Epoch 17/20\n",
      "200/200 [==============================] - 0s 819us/step - loss: 0.6164 - accuracy: 0.7335\n",
      "Epoch 18/20\n",
      "200/200 [==============================] - 0s 780us/step - loss: 0.6153 - accuracy: 0.7361\n",
      "Epoch 19/20\n",
      "200/200 [==============================] - 0s 744us/step - loss: 0.6154 - accuracy: 0.7362\n",
      "Epoch 20/20\n",
      "200/200 [==============================] - 0s 749us/step - loss: 0.6153 - accuracy: 0.7339\n"
     ]
    },
    {
     "data": {
      "text/plain": [
       "<keras.callbacks.History at 0x29792fed6a0>"
      ]
     },
     "execution_count": 37,
     "metadata": {},
     "output_type": "execute_result"
    }
   ],
   "source": [
    "X =df[[\n",
    "        'l1_diff'\n",
    "        ]] \n",
    "\n",
    "Y = df['midprice_up']\n",
    "\n",
    "model = keras.Sequential([\n",
    "    keras.layers.InputLayer(input_shape=(len(X.columns),)),\n",
    "    keras.layers.Dense(1, activation=\"elu\"),\n",
    "    keras.layers.Dense(1, activation=\"sigmoid\")\n",
    "]    \n",
    ")\n",
    "# model.summary()\n",
    "eta = 0.05\n",
    "model.compile(optimizer=keras.optimizers.Adam(learning_rate=eta), loss=\"binary_crossentropy\", metrics=[\"accuracy\"])\n",
    "model.fit(X, Y, batch_size=500, epochs=20)"
   ]
  },
  {
   "cell_type": "markdown",
   "metadata": {},
   "source": [
    "#### Train with important features from EDA"
   ]
  },
  {
   "cell_type": "code",
   "execution_count": 36,
   "metadata": {},
   "outputs": [
    {
     "name": "stdout",
     "output_type": "stream",
     "text": [
      "Epoch 1/20\n",
      "200/200 [==============================] - 1s 925us/step - loss: 0.6420 - accuracy: 0.6403\n",
      "Epoch 2/20\n",
      "200/200 [==============================] - 0s 920us/step - loss: 0.5887 - accuracy: 0.7315\n",
      "Epoch 3/20\n",
      "200/200 [==============================] - 0s 900us/step - loss: 0.5780 - accuracy: 0.7328\n",
      "Epoch 4/20\n",
      "200/200 [==============================] - 0s 879us/step - loss: 0.5613 - accuracy: 0.7361\n",
      "Epoch 5/20\n",
      "200/200 [==============================] - 0s 945us/step - loss: 0.5374 - accuracy: 0.7413\n",
      "Epoch 6/20\n",
      "200/200 [==============================] - 0s 925us/step - loss: 0.5296 - accuracy: 0.7455\n",
      "Epoch 7/20\n",
      "200/200 [==============================] - 0s 884us/step - loss: 0.5294 - accuracy: 0.7429\n",
      "Epoch 8/20\n",
      "200/200 [==============================] - 0s 913us/step - loss: 0.5248 - accuracy: 0.7463\n",
      "Epoch 9/20\n",
      "200/200 [==============================] - 0s 885us/step - loss: 0.5231 - accuracy: 0.7478\n",
      "Epoch 10/20\n",
      "200/200 [==============================] - 0s 874us/step - loss: 0.5233 - accuracy: 0.7454\n",
      "Epoch 11/20\n",
      "200/200 [==============================] - 0s 885us/step - loss: 0.5222 - accuracy: 0.7468\n",
      "Epoch 12/20\n",
      "200/200 [==============================] - 0s 880us/step - loss: 0.5236 - accuracy: 0.7457\n",
      "Epoch 13/20\n",
      "200/200 [==============================] - 0s 880us/step - loss: 0.5217 - accuracy: 0.7459\n",
      "Epoch 14/20\n",
      "200/200 [==============================] - 0s 900us/step - loss: 0.5223 - accuracy: 0.7459\n",
      "Epoch 15/20\n",
      "200/200 [==============================] - 0s 895us/step - loss: 0.5235 - accuracy: 0.7457\n",
      "Epoch 16/20\n",
      "200/200 [==============================] - 0s 879us/step - loss: 0.5191 - accuracy: 0.7476\n",
      "Epoch 17/20\n",
      "200/200 [==============================] - 0s 889us/step - loss: 0.5201 - accuracy: 0.7460\n",
      "Epoch 18/20\n",
      "200/200 [==============================] - 0s 879us/step - loss: 0.5223 - accuracy: 0.7462\n",
      "Epoch 19/20\n",
      "200/200 [==============================] - 0s 874us/step - loss: 0.5213 - accuracy: 0.7450\n",
      "Epoch 20/20\n",
      "200/200 [==============================] - 0s 879us/step - loss: 0.5191 - accuracy: 0.7464\n"
     ]
    },
    {
     "data": {
      "text/plain": [
       "<keras.callbacks.History at 0x29792d25130>"
      ]
     },
     "execution_count": 36,
     "metadata": {},
     "output_type": "execute_result"
    }
   ],
   "source": [
    "X =df[\n",
    "    # vol_cols+prev_mid_m_cols+['bs_pressure1']\n",
    "    ['ss_lob_1_v', 'bs_lob_1_v', 'l1_diff', 'momentum_up']\n",
    "] \n",
    "Y = df['midprice_up']\n",
    "model = keras.Sequential([\n",
    "    keras.layers.InputLayer(input_shape=(len(X.columns),)),\n",
    "    keras.layers.Dense(10, activation=\"elu\"),\n",
    "    keras.layers.Dense(10, activation=\"elu\"),\n",
    "    keras.layers.Dense(1, activation=\"sigmoid\")\n",
    "    ])\n",
    "# model.summary()\n",
    "eta = 0.025\n",
    "model.compile(optimizer=keras.optimizers.Adam(learning_rate=eta), loss=\"binary_crossentropy\", metrics=[\"accuracy\"])\n",
    "model.fit(X, Y, batch_size=500, epochs=20)"
   ]
  },
  {
   "cell_type": "code",
   "execution_count": 33,
   "metadata": {},
   "outputs": [
    {
     "name": "stdout",
     "output_type": "stream",
     "text": [
      "Epoch 1/10\n",
      "1000/1000 [==============================] - 1s 791us/step - loss: nan - accuracy: 0.5167\n",
      "Epoch 2/10\n",
      "1000/1000 [==============================] - 1s 785us/step - loss: nan - accuracy: 0.4973\n",
      "Epoch 3/10\n",
      "1000/1000 [==============================] - 1s 801us/step - loss: nan - accuracy: 0.4973\n",
      "Epoch 4/10\n",
      "1000/1000 [==============================] - 1s 785us/step - loss: nan - accuracy: 0.4973\n",
      "Epoch 5/10\n",
      "1000/1000 [==============================] - 1s 793us/step - loss: nan - accuracy: 0.4973\n",
      "Epoch 6/10\n",
      "1000/1000 [==============================] - 1s 802us/step - loss: nan - accuracy: 0.4973\n",
      "Epoch 7/10\n",
      "1000/1000 [==============================] - 1s 791us/step - loss: nan - accuracy: 0.4973\n",
      "Epoch 8/10\n",
      "1000/1000 [==============================] - 1s 809us/step - loss: nan - accuracy: 0.4973\n",
      "Epoch 9/10\n",
      "1000/1000 [==============================] - 1s 784us/step - loss: nan - accuracy: 0.4973\n",
      "Epoch 10/10\n",
      "1000/1000 [==============================] - 1s 788us/step - loss: nan - accuracy: 0.4973\n"
     ]
    },
    {
     "data": {
      "text/plain": [
       "<keras.callbacks.History at 0x29798e332e0>"
      ]
     },
     "execution_count": 33,
     "metadata": {},
     "output_type": "execute_result"
    }
   ],
   "source": [
    "X =df.drop(columns=['midprice_up'])\n",
    "\n",
    "Y=df['midprice_up']\n",
    "\n",
    "model = keras.Sequential([\n",
    "    InputLayer(input_shape=(len(X.columns))),\n",
    "    Dense(units=22, activation='elu'),\n",
    "    Dense(units=22, activation='elu'),\n",
    "    Dense(units=1, activation='sigmoid')\n",
    "])\n",
    "\n",
    "eta = 0.01\n",
    "model.compile(optimizer=keras.optimizers.Adam(learning_rate=eta), loss=\"binary_crossentropy\", metrics=[\"accuracy\"])\n",
    "model.fit(X, Y, batch_size=100, epochs=10)"
   ]
  }
 ],
 "metadata": {
  "kernelspec": {
   "display_name": "Python 3.9.11 ('venv': venv)",
   "language": "python",
   "name": "python3"
  },
  "language_info": {
   "codemirror_mode": {
    "name": "ipython",
    "version": 3
   },
   "file_extension": ".py",
   "mimetype": "text/x-python",
   "name": "python",
   "nbconvert_exporter": "python",
   "pygments_lexer": "ipython3",
   "version": "3.9.11"
  },
  "orig_nbformat": 4,
  "vscode": {
   "interpreter": {
    "hash": "d5a4d575a3f9390417db93755ce5d901ca6db577e6a37fb25263f9010c483d1b"
   }
  }
 },
 "nbformat": 4,
 "nbformat_minor": 2
}
